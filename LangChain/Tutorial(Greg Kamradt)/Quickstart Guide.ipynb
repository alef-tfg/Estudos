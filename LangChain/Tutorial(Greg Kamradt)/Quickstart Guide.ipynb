{
 "cells": [
  {
   "cell_type": "code",
   "execution_count": 1,
   "id": "9deaced4-3635-4125-84f9-fd858ba7c389",
   "metadata": {},
   "outputs": [],
   "source": [
    "import os\n",
    "from api_key import *\n",
    "os.environ[\"OPENAI_API_KEY\"] = OPENAI_API_KEY\n",
    "os.environ[\"SERPAPI_API_KEY\"] = SERPAPI_API_KEY"
   ]
  },
  {
   "cell_type": "code",
   "execution_count": 16,
   "id": "7ce23726-c389-4538-91f9-8215c12b9c8d",
   "metadata": {},
   "outputs": [],
   "source": [
    "from langchain_openai import OpenAI"
   ]
  },
  {
   "cell_type": "code",
   "execution_count": 17,
   "id": "098f7666-44ca-4f82-bfc7-eb8d91178a62",
   "metadata": {},
   "outputs": [],
   "source": [
    "llm= OpenAI(temperature=0.5)"
   ]
  },
  {
   "cell_type": "code",
   "execution_count": 19,
   "id": "0440fae3-abc8-4061-888c-546a88d9368e",
   "metadata": {},
   "outputs": [
    {
     "name": "stdout",
     "output_type": "stream",
     "text": [
      "\n",
      "\n",
      "1. Italy - Known as the birthplace of pasta, Italy offers a wide variety of pasta dishes to satisfy any pasta lover's cravings. From classic spaghetti and meatballs to creamy fettuccine alfredo, there is no shortage of delicious pasta options in this Mediterranean country.\n",
      "\n",
      "2. New York City, USA - With its diverse population and rich culinary scene, New York City is a great destination for pasta lovers. From traditional Italian restaurants in Little Italy to trendy fusion spots in Brooklyn, there is a plethora of pasta options to explore in the Big Apple.\n",
      "\n",
      "3. Tokyo, Japan - While not traditionally known for its pasta dishes, Tokyo has a growing pasta culture with unique and creative twists on traditional Italian dishes. From ramen-style pasta to Japanese-inspired sauces, Tokyo offers a fusion of flavors for pasta enthusiasts to try.\n",
      "\n",
      "4. Paris, France - Paris may be known for its croissants and baguettes, but it also boasts a thriving pasta scene. With a mix of traditional French and Italian influences, Paris offers a variety of delicious pasta dishes in charming bistro settings.\n",
      "\n",
      "5. Buenos Aires, Argentina - Argentina's Italian immigrant population has heavily influenced the country's cuisine, making it a great destination for pasta lovers. From hearty meat-filled ravioli\n"
     ]
    }
   ],
   "source": [
    "text = \"what are 5 vocations destinations for someone who likes to eat pasta?\"\n",
    "print(llm.invoke(text))"
   ]
  },
  {
   "cell_type": "markdown",
   "id": "785cb24f-3643-4687-bb02-35e1252d9ead",
   "metadata": {},
   "source": [
    "# Prompt Templates: Menage prompts for LLMs"
   ]
  },
  {
   "cell_type": "code",
   "execution_count": 20,
   "id": "ac5a6410-1029-466c-951c-f659a542abc0",
   "metadata": {},
   "outputs": [],
   "source": [
    "from langchain.prompts import PromptTemplate"
   ]
  },
  {
   "cell_type": "code",
   "execution_count": 23,
   "id": "a81cf77d-f769-40c7-9e63-857db110e2c7",
   "metadata": {},
   "outputs": [],
   "source": [
    "prompt = PromptTemplate(\n",
    "    input_variables=[\"food\"],\n",
    "    template = \"what are 5 vocations destinations for someone who likes to eat {food}?\"\n",
    ")"
   ]
  },
  {
   "cell_type": "code",
   "execution_count": 24,
   "id": "fc76a2ad-5f91-4457-8582-1d82a763cdaa",
   "metadata": {},
   "outputs": [
    {
     "name": "stdout",
     "output_type": "stream",
     "text": [
      "what are 5 vocations destinations for someone who likes to eat dessert?\n"
     ]
    }
   ],
   "source": [
    "print(prompt.format(food=\"dessert\"))"
   ]
  },
  {
   "cell_type": "code",
   "execution_count": 26,
   "id": "32bbbfa5-c67b-4040-9d35-942ad57e1d3d",
   "metadata": {},
   "outputs": [
    {
     "name": "stdout",
     "output_type": "stream",
     "text": [
      "\n",
      "\n",
      "1. Paris, France - Known for its decadent pastries, macarons, and crepes, Paris is a dream destination for anyone with a sweet tooth.\n",
      "\n",
      "2. Vienna, Austria - Vienna is famous for its coffeehouses, where you can indulge in delicious cakes and pastries like Sachertorte and Apfelstrudel.\n",
      "\n",
      "3. New York City, USA - The Big Apple is home to a diverse range of dessert options, from classic New York cheesecake to trendy cronuts and milkshakes.\n",
      "\n",
      "4. Tokyo, Japan - Japan takes dessert to a whole new level with its colorful and creative sweets, such as matcha-flavored treats and fluffy Japanese cheesecake.\n",
      "\n",
      "5. Istanbul, Turkey - Turkish desserts are a fusion of Middle Eastern and Mediterranean flavors, with options like baklava, Turkish delight, and künefe to satisfy any sweet tooth.\n"
     ]
    }
   ],
   "source": [
    "print(llm.invoke(prompt.format(food=\"dessert\")))"
   ]
  },
  {
   "cell_type": "markdown",
   "id": "6f45ca47-6494-4f5b-a008-9ca1be434b2a",
   "metadata": {},
   "source": [
    "# Chains: Combine LLMs and prompts in multi-step workflows"
   ]
  },
  {
   "cell_type": "code",
   "execution_count": 27,
   "id": "67b36bbb-e353-459e-bde2-954452d21608",
   "metadata": {},
   "outputs": [],
   "source": [
    "from langchain.prompts import PromptTemplate\n",
    "from langchain_openai import OpenAI\n",
    "from langchain.chains import LLMChain"
   ]
  },
  {
   "cell_type": "code",
   "execution_count": 28,
   "id": "6ffb3ef8-84a4-4c7c-b053-e062aa003944",
   "metadata": {},
   "outputs": [],
   "source": [
    "llm = OpenAI(temperature=0.9)\n",
    "\n",
    "prompt = PromptTemplate(\n",
    "    input_variables=[\"food\"],\n",
    "    template = \"what are 5 vocations destinations for someone who likes to eat {food}?\"\n",
    ")"
   ]
  },
  {
   "cell_type": "code",
   "execution_count": 29,
   "id": "bdded858-a208-412d-ab70-e71d653f0cce",
   "metadata": {},
   "outputs": [],
   "source": [
    "chain = LLMChain(llm=llm, prompt=prompt)"
   ]
  },
  {
   "cell_type": "code",
   "execution_count": 31,
   "id": "0e3d1a23-bf9a-412f-adac-3a77d57f3f22",
   "metadata": {},
   "outputs": [
    {
     "name": "stdout",
     "output_type": "stream",
     "text": [
      "{'food': 'fruit', 'text': '\\n1. Tropical islands such as Hawaii or the Caribbean, where a variety of fresh, exotic fruits are readily available.\\n\\n2. Fruit festivals and markets around the world, such as the La Tomatina Festival in Spain or the Apple Harvest Festival in New Hampshire.\\n\\n3. Farm-to-table destinations where visitors can pick and sample fruits straight from the source, such as the Okanagan Valley in British Columbia, Canada or the Finger Lakes region in New York.\\n\\n4. Mediterranean countries such as Italy, Greece, and Spain, known for their abundant and diverse selection of fresh fruits used in traditional dishes and desserts.\\n\\n5. Southeast Asian countries like Thailand, Vietnam, and Indonesia, where street markets are filled with colorful and flavorful tropical fruits like mango, durian, and rambutan.'}\n"
     ]
    }
   ],
   "source": [
    "print(result := chain.invoke(\"fruit\"))"
   ]
  },
  {
   "cell_type": "code",
   "execution_count": 37,
   "id": "a6d76a39-9f3e-450d-81ef-e56f677f2d55",
   "metadata": {},
   "outputs": [
    {
     "name": "stdout",
     "output_type": "stream",
     "text": [
      "{'food': 'fruit',\n",
      " 'text': '\\n'\n",
      "         '1. Tropical islands such as Hawaii or the Caribbean, where a variety '\n",
      "         'of fresh, exotic fruits are readily available.\\n'\n",
      "         '\\n'\n",
      "         '2. Fruit festivals and markets around the world, such as the La '\n",
      "         'Tomatina Festival in Spain or the Apple Harvest Festival in New '\n",
      "         'Hampshire.\\n'\n",
      "         '\\n'\n",
      "         '3. Farm-to-table destinations where visitors can pick and sample '\n",
      "         'fruits straight from the source, such as the Okanagan Valley in '\n",
      "         'British Columbia, Canada or the Finger Lakes region in New York.\\n'\n",
      "         '\\n'\n",
      "         '4. Mediterranean countries such as Italy, Greece, and Spain, known '\n",
      "         'for their abundant and diverse selection of fresh fruits used in '\n",
      "         'traditional dishes and desserts.\\n'\n",
      "         '\\n'\n",
      "         '5. Southeast Asian countries like Thailand, Vietnam, and Indonesia, '\n",
      "         'where street markets are filled with colorful and flavorful tropical '\n",
      "         'fruits like mango, durian, and rambutan.'}\n"
     ]
    }
   ],
   "source": [
    "from pprint import pprint\n",
    "pprint(result)\n",
    "# pprint(result['text'])"
   ]
  },
  {
   "cell_type": "markdown",
   "id": "40d15f98-1e30-4bb8-8b4c-93cb74472c0f",
   "metadata": {},
   "source": [
    "# Agents: Dynamivally call chains based on user imput"
   ]
  },
  {
   "cell_type": "code",
   "execution_count": 12,
   "id": "7286d373-7464-4814-b224-1111520b56af",
   "metadata": {},
   "outputs": [],
   "source": [
    "from langchain.agents import load_tools\n",
    "from langchain.agents import initialize_agent\n",
    "from langchain_openai import OpenAI"
   ]
  },
  {
   "cell_type": "code",
   "execution_count": 3,
   "id": "5f5eb6a5-bf5f-4aed-8242-aa37dc096e28",
   "metadata": {},
   "outputs": [],
   "source": [
    "llm = OpenAI(temperature=0)"
   ]
  },
  {
   "cell_type": "code",
   "execution_count": 6,
   "id": "39f8a16b-8c6c-4cba-b819-49966784d661",
   "metadata": {},
   "outputs": [],
   "source": [
    "tools = load_tools([\"serpapi\", \"llm-math\"], llm=llm)"
   ]
  },
  {
   "cell_type": "code",
   "execution_count": 13,
   "id": "cc0a3e18-e87d-4a87-ae60-848342e7f42f",
   "metadata": {},
   "outputs": [],
   "source": [
    "agent = initialize_agent(tools, llm, agent=\"zero-shot-react-description\", verbose=True)"
   ]
  },
  {
   "cell_type": "code",
   "execution_count": 14,
   "id": "a6f92e42-19de-473b-b4d7-698762bdf00b",
   "metadata": {},
   "outputs": [
    {
     "name": "stdout",
     "output_type": "stream",
     "text": [
      "\n",
      "\n",
      "\u001b[1m> Entering new AgentExecutor chain...\u001b[0m\n",
      "\u001b[32;1m\u001b[1;3m I should use a search engine to find the current leader of Japan and a calculator to find the largest prime number.\n",
      "Action: Search\n",
      "Action Input: \"current leader of Japan\"\u001b[0m\n",
      "Observation: \u001b[36;1m\u001b[1;3mKISHIDA Fumio (The Cabinet) | Prime Minister's Office of Japan.\u001b[0m\n",
      "Thought:\u001b[32;1m\u001b[1;3m Now I need to find their age.\n",
      "Action: Search\n",
      "Action Input: \"KISHIDA Fumio age\"\u001b[0m\n",
      "Observation: \u001b[36;1m\u001b[1;3m66 years\u001b[0m\n",
      "Thought:\u001b[32;1m\u001b[1;3m Now I need to find the largest prime number smaller than 66.\n",
      "Action: Calculator\n",
      "Action Input: 66\u001b[0m\n",
      "Observation: \u001b[33;1m\u001b[1;3mAnswer: 66\u001b[0m\n",
      "Thought:\u001b[32;1m\u001b[1;3m This can't be right, 66 is not a prime number.\n",
      "Action: Calculator\n",
      "Action Input: 65\u001b[0m\n",
      "Observation: \u001b[33;1m\u001b[1;3mAnswer: 65\u001b[0m\n",
      "Thought:\u001b[32;1m\u001b[1;3m This is also not a prime number.\n",
      "Action: Calculator\n",
      "Action Input: 64\u001b[0m\n",
      "Observation: \u001b[33;1m\u001b[1;3mAnswer: 64\u001b[0m\n",
      "Thought:\u001b[32;1m\u001b[1;3m This is also not a prime number.\n",
      "Action: Calculator\n",
      "Action Input: 63\u001b[0m\n",
      "Observation: \u001b[33;1m\u001b[1;3mAnswer: 63\u001b[0m\n",
      "Thought:\u001b[32;1m\u001b[1;3m This is also not a prime number.\n",
      "Action: Calculator\n",
      "Action Input: 62\u001b[0m\n",
      "Observation: \u001b[33;1m\u001b[1;3mAnswer: 62\u001b[0m\n",
      "Thought:\u001b[32;1m\u001b[1;3m This is also not a prime number.\n",
      "Action: Calculator\n",
      "Action Input: 61\u001b[0m\n",
      "Observation: \u001b[33;1m\u001b[1;3mAnswer: 61\u001b[0m\n",
      "Thought:\u001b[32;1m\u001b[1;3m This is the largest prime number smaller than 66.\n",
      "Final Answer: 61\u001b[0m\n",
      "\n",
      "\u001b[1m> Finished chain.\u001b[0m\n"
     ]
    },
    {
     "data": {
      "text/plain": [
       "{'input': 'Who is the current leader of japan? What is the largest ŕime number that is smaller than their age?',\n",
       " 'output': '61'}"
      ]
     },
     "execution_count": 14,
     "metadata": {},
     "output_type": "execute_result"
    }
   ],
   "source": [
    "agent.invoke(\"Who is the current leader of japan? What is the largest prime number that is smaller than their age?\")"
   ]
  },
  {
   "cell_type": "markdown",
   "id": "db7690b4-b659-4b4a-81ba-37f4543c272e",
   "metadata": {},
   "source": [
    "# Memory: add state to chains and agents"
   ]
  },
  {
   "cell_type": "code",
   "execution_count": 15,
   "id": "fe81e695-2a0c-4c41-beae-b8249d89f645",
   "metadata": {},
   "outputs": [],
   "source": [
    "from langchain import OpenAI, ConversationChain"
   ]
  },
  {
   "cell_type": "code",
   "execution_count": 17,
   "id": "b582b16e-72e2-4470-b8f5-94ba6e2abff7",
   "metadata": {},
   "outputs": [],
   "source": [
    "llm = OpenAI(temperature=0)\n",
    "conversation = ConversationChain(llm=llm, verbose=True)"
   ]
  },
  {
   "cell_type": "code",
   "execution_count": 19,
   "id": "c4c740e9-6097-4621-8b05-a004f4789b73",
   "metadata": {},
   "outputs": [
    {
     "name": "stdout",
     "output_type": "stream",
     "text": [
      "\n",
      "\n",
      "\u001b[1m> Entering new ConversationChain chain...\u001b[0m\n",
      "Prompt after formatting:\n",
      "\u001b[32;1m\u001b[1;3mThe following is a friendly conversation between a human and an AI. The AI is talkative and provides lots of specific details from its context. If the AI does not know the answer to a question, it truthfully says it does not know.\n",
      "\n",
      "Current conversation:\n",
      "\n",
      "Human: Hi there!\n",
      "AI:\u001b[0m\n",
      "\n",
      "\u001b[1m> Finished chain.\u001b[0m\n"
     ]
    },
    {
     "data": {
      "text/plain": [
       "\" Hello! It's nice to meet you. I am an AI created by OpenAI. I am constantly learning and improving my abilities through machine learning algorithms. How can I assist you today?\""
      ]
     },
     "execution_count": 19,
     "metadata": {},
     "output_type": "execute_result"
    }
   ],
   "source": [
    "conversation.predict(input=\"Hi there!\")"
   ]
  },
  {
   "cell_type": "code",
   "execution_count": 20,
   "id": "db292c35-ced6-4c5e-b808-f458de2cd522",
   "metadata": {},
   "outputs": [
    {
     "name": "stdout",
     "output_type": "stream",
     "text": [
      "\n",
      "\n",
      "\u001b[1m> Entering new ConversationChain chain...\u001b[0m\n",
      "Prompt after formatting:\n",
      "\u001b[32;1m\u001b[1;3mThe following is a friendly conversation between a human and an AI. The AI is talkative and provides lots of specific details from its context. If the AI does not know the answer to a question, it truthfully says it does not know.\n",
      "\n",
      "Current conversation:\n",
      "Human: Hi there!\n",
      "AI:  Hello! It's nice to meet you. I am an AI created by OpenAI. I am constantly learning and improving my abilities through machine learning algorithms. How can I assist you today?\n",
      "Human: i'm doing well! just having a conversation with an AI\n",
      "AI:\u001b[0m\n",
      "\n",
      "\u001b[1m> Finished chain.\u001b[0m\n"
     ]
    },
    {
     "data": {
      "text/plain": [
       "\" That's great to hear! I am always happy to engage in conversations and learn more about human interactions. Is there anything specific you would like to talk about?\""
      ]
     },
     "execution_count": 20,
     "metadata": {},
     "output_type": "execute_result"
    }
   ],
   "source": [
    "conversation.predict(input=\"i'm doing well! just having a conversation with an AI\")"
   ]
  },
  {
   "cell_type": "code",
   "execution_count": 21,
   "id": "4863f7f7-6287-4e97-afe2-d85b1fe0e01f",
   "metadata": {},
   "outputs": [
    {
     "name": "stdout",
     "output_type": "stream",
     "text": [
      "\n",
      "\n",
      "\u001b[1m> Entering new ConversationChain chain...\u001b[0m\n",
      "Prompt after formatting:\n",
      "\u001b[32;1m\u001b[1;3mThe following is a friendly conversation between a human and an AI. The AI is talkative and provides lots of specific details from its context. If the AI does not know the answer to a question, it truthfully says it does not know.\n",
      "\n",
      "Current conversation:\n",
      "Human: Hi there!\n",
      "AI:  Hello! It's nice to meet you. I am an AI created by OpenAI. I am constantly learning and improving my abilities through machine learning algorithms. How can I assist you today?\n",
      "Human: i'm doing well! just having a conversation with an AI\n",
      "AI:  That's great to hear! I am always happy to engage in conversations and learn more about human interactions. Is there anything specific you would like to talk about?\n",
      "Human: Yes, do you remember the first thing that i've said to you?\n",
      "AI:\u001b[0m\n",
      "\n",
      "\u001b[1m> Finished chain.\u001b[0m\n"
     ]
    },
    {
     "data": {
      "text/plain": [
       "' Yes, you said \"Hi there!\" It was a friendly greeting and a great way to start our conversation. Is there anything else you would like to know?'"
      ]
     },
     "execution_count": 21,
     "metadata": {},
     "output_type": "execute_result"
    }
   ],
   "source": [
    "conversation.predict(input=\"Yes, do you remember the first thing that i've said to you?\")"
   ]
  }
 ],
 "metadata": {
  "kernelspec": {
   "display_name": "Python 3 (ipykernel)",
   "language": "python",
   "name": "python3"
  },
  "language_info": {
   "codemirror_mode": {
    "name": "ipython",
    "version": 3
   },
   "file_extension": ".py",
   "mimetype": "text/x-python",
   "name": "python",
   "nbconvert_exporter": "python",
   "pygments_lexer": "ipython3",
   "version": "3.10.12"
  }
 },
 "nbformat": 4,
 "nbformat_minor": 5
}
