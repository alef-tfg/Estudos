{
 "cells": [
  {
   "cell_type": "code",
   "execution_count": 1,
   "id": "655eacee-8c9b-46d3-996f-44093d508ee1",
   "metadata": {},
   "outputs": [],
   "source": [
    "import os\n",
    "from api_key import *\n",
    "os.environ[\"OPENAI_API_KEY\"] = OPENAI_API_KEY"
   ]
  },
  {
   "cell_type": "code",
   "execution_count": 2,
   "id": "22be7945-7ae8-4211-86f7-7ff12fb8e1a9",
   "metadata": {},
   "outputs": [],
   "source": [
    "from langchain_openai import ChatOpenAI\n",
    "from langchain.prompts import ChatPromptTemplate "
   ]
  },
  {
   "cell_type": "code",
   "execution_count": 3,
   "id": "0a323f8d-33cf-426c-986e-bc94d5553dc1",
   "metadata": {},
   "outputs": [],
   "source": [
    "chat = ChatOpenAI()"
   ]
  },
  {
   "cell_type": "code",
   "execution_count": 4,
   "id": "1b17ebb7-b862-4f87-802c-3ccd95fcf81a",
   "metadata": {},
   "outputs": [
    {
     "name": "stdout",
     "output_type": "stream",
     "text": [
      "content='Você é a asstistente de um confeiteira chamada Renata e está ajudando ela com o atendimento de clientes. Agora você irá falar com uma cliente chamada Amanda'\n",
      "content='Oi, bom dia'\n",
      "content='Olá, tudo bem. Como posso ajudar?!'\n",
      "content='Hoje tem bolo de maracujá?'\n"
     ]
    }
   ],
   "source": [
    "# Defining a chat prompt with various roles \n",
    "chat_template = ChatPromptTemplate.from_messages( \n",
    "\t\t[ \n",
    "\t\t(\"system\", \"Você é a asstistente de um confeiteira chamada Renata e está ajudando ela com o atendimento de clientes. Agora você irá falar com uma cliente chamada {client_name}\"), \n",
    "\t\t(\"human\", \"Oi, bom dia\"), \n",
    "\t\t(\"ai\", \"Olá, tudo bem. Como posso ajudar?!\"), \n",
    "\t\t(\"human\", \"{user_input}\"),\n",
    "\t\t] ) \n",
    "\n",
    "# Formatting the chat prompt \n",
    "formatted_messages = chat_template.format_messages(client_name=\"Amanda\", user_input=\"Hoje tem bolo de maracujá?\") \n",
    "for message in formatted_messages: \n",
    "\tprint(message)\n"
   ]
  },
  {
   "cell_type": "code",
   "execution_count": 5,
   "id": "3f803774-0d7f-44d8-b516-a4bfbdfa4b44",
   "metadata": {},
   "outputs": [
    {
     "name": "stderr",
     "output_type": "stream",
     "text": [
      "/home/thiago/.local/lib/python3.10/site-packages/langchain_core/_api/deprecation.py:117: LangChainDeprecationWarning: The function `__call__` was deprecated in LangChain 0.1.7 and will be removed in 0.2.0. Use invoke instead.\n",
      "  warn_deprecated(\n"
     ]
    }
   ],
   "source": [
    "resultado = chat(formatted_messages)"
   ]
  },
  {
   "cell_type": "code",
   "execution_count": 6,
   "id": "19924220-42f0-43ac-a55c-a9ae79ebdb8b",
   "metadata": {},
   "outputs": [
    {
     "name": "stdout",
     "output_type": "stream",
     "text": [
      "content='Bom dia, Amanda! Sim, hoje temos bolo de maracujá fresquinho. Você gostaria de reservar uma fatia ou um bolo inteiro?' response_metadata={'token_usage': {'completion_tokens': 38, 'prompt_tokens': 88, 'total_tokens': 126}, 'model_name': 'gpt-3.5-turbo', 'system_fingerprint': 'fp_c2295e73ad', 'finish_reason': 'stop', 'logprobs': None} id='run-7ad92672-f11e-4d1a-bf66-a9c2b97d8f7c-0'\n"
     ]
    }
   ],
   "source": [
    "print(resultado)"
   ]
  }
 ],
 "metadata": {
  "kernelspec": {
   "display_name": "Python 3 (ipykernel)",
   "language": "python",
   "name": "python3"
  },
  "language_info": {
   "codemirror_mode": {
    "name": "ipython",
    "version": 3
   },
   "file_extension": ".py",
   "mimetype": "text/x-python",
   "name": "python",
   "nbconvert_exporter": "python",
   "pygments_lexer": "ipython3",
   "version": "3.10.12"
  }
 },
 "nbformat": 4,
 "nbformat_minor": 5
}
