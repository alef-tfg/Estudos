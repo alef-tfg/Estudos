{
 "cells": [
  {
   "cell_type": "code",
   "execution_count": 6,
   "metadata": {},
   "outputs": [],
   "source": [
    "import gspread\n",
    "from oauth2client.service_account import ServiceAccountCredentials\n",
    "\n",
    "import numpy as np\n",
    "import pandas as pd\n"
   ]
  },
  {
   "cell_type": "code",
   "execution_count": 7,
   "metadata": {},
   "outputs": [
    {
     "name": "stdout",
     "output_type": "stream",
     "text": [
      "[<Spreadsheet 'Macros Tracker' id:14U-sVJes0LPbPchyDLNYkI7eK6_jfunmWlG2qMte1_U>]\n"
     ]
    }
   ],
   "source": [
    "scope = ['https://www.googleapis.com/auth/spreadsheets','https://www.googleapis.com/auth/drive.file','https://www.googleapis.com/auth/drive']\n",
    "\n",
    "creds = ServiceAccountCredentials.from_json_keyfile_name(\"macros-key.json\", scope)\n",
    "client = gspread.authorize(creds)\n",
    "print(client.openall())\n",
    "\n",
    "Macros = np.array(client.open(\"Macros Tracker\").worksheet(\"Data(Macros)\").get_all_values())\n",
    "Medidas = np.array(client.open(\"Macros Tracker\").worksheet(\"Medidas\").get_all_values())"
   ]
  },
  {
   "cell_type": "code",
   "execution_count": 22,
   "metadata": {},
   "outputs": [
    {
     "data": {
      "text/plain": [
       "[array(['Data', '2021-06-28', '2021-06-29', ..., '2024-03-19',\n",
       "        '2024-03-20', '2024-03-21'], dtype='<U12'),\n",
       " array(['CARB', '343.0', '296.9', ..., '201.4', '230.8', ''], dtype='<U12'),\n",
       " array(['PROT', '138.5', '167.3', ..., '168.7', '180.7', ''], dtype='<U12'),\n",
       " array(['GORD', '63.4', '62.5', ..., '74.9', '80.0', ''], dtype='<U12'),\n",
       " array(['CALS', '2496.5', '2419.3', ..., '2154.5', '', ''], dtype='<U12')]"
      ]
     },
     "execution_count": 22,
     "metadata": {},
     "output_type": "execute_result"
    }
   ],
   "source": [
    "\n",
    "# Macros_totais = pd.DataFrame(np.array(Macros).T[-4:1])\n",
    "[Macros.T [0], *Macros.T[-4:]]"
   ]
  }
 ],
 "metadata": {
  "kernelspec": {
   "display_name": ".venv",
   "language": "python",
   "name": "python3"
  },
  "language_info": {
   "codemirror_mode": {
    "name": "ipython",
    "version": 3
   },
   "file_extension": ".py",
   "mimetype": "text/x-python",
   "name": "python",
   "nbconvert_exporter": "python",
   "pygments_lexer": "ipython3",
   "version": "3.11.8"
  }
 },
 "nbformat": 4,
 "nbformat_minor": 2
}
